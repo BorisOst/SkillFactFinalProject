{
 "cells": [
  {
   "attachments": {},
   "cell_type": "markdown",
   "id": "eb8100db-a071-48f0-912c-d43c3f915a08",
   "metadata": {},
   "source": [
    "Прогнозирование временного ряда на примере решения задачи прогнозирования стоимости акций компании APPLE\n",
    "\n",
    "Ключевые пункты:\n",
    "* учет тренда и сезонности временного ряда стоимости \n",
    "* учет дополнительных параметров при прогнозировании - объем, уровни, волны\n",
    "* учет возможной волатильности временного ряда\n",
    "* анализ возможных рисков при соверешении операций с ценными бумагами\n",
    "* использование разработанного инструмента для анализа различных акций и тд.\n",
    "\n",
    "Методы для предсказания:\n",
    "* ARIMA и т.д\n",
    "* Преобразование Фурье\n",
    "* Нейронные сети \n",
    "* Цепи Маркова\n",
    "\n",
    "\n",
    "План диплома\n",
    "\n",
    "\n",
    "Todo: \n",
    "* логарифмирование исходного ряда\n",
    "* попробовать SARIMAX с дополнительными параметрами\n",
    "* нейронные сети для анализа ряда "
   ]
  },
  {
   "attachments": {},
   "cell_type": "markdown",
   "id": "439cde85",
   "metadata": {},
   "source": [
    "# Эксперимент #3. Прогнозирование при помощи рекурентных нейронных сетей"
   ]
  },
  {
   "cell_type": "code",
   "execution_count": 1,
   "id": "352d78e8-90f9-41a2-9372-feba86c1276d",
   "metadata": {},
   "outputs": [],
   "source": [
    "import numpy as np\n",
    "import pandas as pd\n",
    "import matplotlib.pyplot as plt\n",
    "import seaborn as sns\n",
    "import mplfinance as mpf\n",
    "import yfinance as yf\n",
    "import warnings\n",
    "\n",
    "from datetime import datetime\n",
    "from ta import add_all_ta_features\n",
    "from ta.utils import dropna\n",
    "from sklearn.model_selection import TimeSeriesSplit\n",
    "from statsmodels.graphics.tsaplots import plot_acf, plot_pacf\n",
    "from sklearn.metrics import mean_squared_error\n",
    "\n",
    "import tensorflow as tf\n",
    "\n",
    "import plotly.graph_objects as go"
   ]
  },
  {
   "cell_type": "code",
   "execution_count": 2,
   "id": "86795d6f",
   "metadata": {},
   "outputs": [
    {
     "name": "stdout",
     "output_type": "stream",
     "text": [
      "Collecting tensorflow\n",
      "  Using cached tensorflow-2.11.0-cp39-cp39-win_amd64.whl (1.9 kB)\n",
      "Collecting tensorflow-intel==2.11.0\n",
      "  Downloading tensorflow_intel-2.11.0-cp39-cp39-win_amd64.whl (266.3 MB)\n",
      "Requirement already satisfied: wrapt>=1.11.0 in c:\\users\\b.ostreshko\\anaconda3\\lib\\site-packages (from tensorflow-intel==2.11.0->tensorflow) (1.12.1)\n",
      "Collecting opt-einsum>=2.3.2\n",
      "  Downloading opt_einsum-3.3.0-py3-none-any.whl (65 kB)\n",
      "Requirement already satisfied: protobuf<3.20,>=3.9.2 in c:\\users\\b.ostreshko\\anaconda3\\lib\\site-packages (from tensorflow-intel==2.11.0->tensorflow) (3.19.1)\n",
      "Requirement already satisfied: h5py>=2.9.0 in c:\\users\\b.ostreshko\\anaconda3\\lib\\site-packages (from tensorflow-intel==2.11.0->tensorflow) (3.6.0)\n",
      "Collecting termcolor>=1.1.0\n",
      "  Downloading termcolor-2.2.0-py3-none-any.whl (6.6 kB)\n",
      "Collecting absl-py>=1.0.0\n",
      "  Downloading absl_py-1.4.0-py3-none-any.whl (126 kB)\n",
      "Requirement already satisfied: setuptools in c:\\users\\b.ostreshko\\anaconda3\\lib\\site-packages (from tensorflow-intel==2.11.0->tensorflow) (61.2.0)\n",
      "Collecting keras<2.12,>=2.11.0\n",
      "  Downloading keras-2.11.0-py2.py3-none-any.whl (1.7 MB)\n",
      "Requirement already satisfied: grpcio<2.0,>=1.24.3 in c:\\users\\b.ostreshko\\anaconda3\\lib\\site-packages (from tensorflow-intel==2.11.0->tensorflow) (1.42.0)\n",
      "Collecting tensorflow-estimator<2.12,>=2.11.0\n",
      "  Downloading tensorflow_estimator-2.11.0-py2.py3-none-any.whl (439 kB)\n",
      "Collecting tensorboard<2.12,>=2.11\n",
      "  Downloading tensorboard-2.11.2-py3-none-any.whl (6.0 MB)\n",
      "Collecting tensorflow-io-gcs-filesystem>=0.23.1\n",
      "  Downloading tensorflow_io_gcs_filesystem-0.31.0-cp39-cp39-win_amd64.whl (1.5 MB)\n",
      "Requirement already satisfied: numpy>=1.20 in c:\\users\\b.ostreshko\\anaconda3\\lib\\site-packages (from tensorflow-intel==2.11.0->tensorflow) (1.21.5)\n",
      "Requirement already satisfied: six>=1.12.0 in c:\\users\\b.ostreshko\\anaconda3\\lib\\site-packages (from tensorflow-intel==2.11.0->tensorflow) (1.16.0)\n",
      "Collecting astunparse>=1.6.0\n",
      "  Downloading astunparse-1.6.3-py2.py3-none-any.whl (12 kB)\n",
      "Collecting flatbuffers>=2.0\n",
      "  Downloading flatbuffers-23.3.3-py2.py3-none-any.whl (26 kB)\n",
      "Collecting libclang>=13.0.0\n",
      "  Downloading libclang-15.0.6.1-py2.py3-none-win_amd64.whl (23.2 MB)\n",
      "Requirement already satisfied: packaging in c:\\users\\b.ostreshko\\anaconda3\\lib\\site-packages (from tensorflow-intel==2.11.0->tensorflow) (21.3)\n",
      "Collecting google-pasta>=0.1.1\n",
      "  Downloading google_pasta-0.2.0-py3-none-any.whl (57 kB)\n",
      "Collecting gast<=0.4.0,>=0.2.1\n",
      "  Downloading gast-0.4.0-py3-none-any.whl (9.8 kB)\n",
      "Requirement already satisfied: typing-extensions>=3.6.6 in c:\\users\\b.ostreshko\\anaconda3\\lib\\site-packages (from tensorflow-intel==2.11.0->tensorflow) (4.1.1)\n",
      "Requirement already satisfied: wheel<1.0,>=0.23.0 in c:\\users\\b.ostreshko\\anaconda3\\lib\\site-packages (from astunparse>=1.6.0->tensorflow-intel==2.11.0->tensorflow) (0.37.1)\n",
      "Collecting tensorboard-data-server<0.7.0,>=0.6.0\n",
      "  Downloading tensorboard_data_server-0.6.1-py3-none-any.whl (2.4 kB)\n",
      "Requirement already satisfied: markdown>=2.6.8 in c:\\users\\b.ostreshko\\anaconda3\\lib\\site-packages (from tensorboard<2.12,>=2.11->tensorflow-intel==2.11.0->tensorflow) (3.3.4)\n",
      "Requirement already satisfied: requests<3,>=2.21.0 in c:\\users\\b.ostreshko\\anaconda3\\lib\\site-packages (from tensorboard<2.12,>=2.11->tensorflow-intel==2.11.0->tensorflow) (2.27.1)\n",
      "Collecting google-auth-oauthlib<0.5,>=0.4.1\n",
      "  Downloading google_auth_oauthlib-0.4.6-py2.py3-none-any.whl (18 kB)\n",
      "Requirement already satisfied: google-auth<3,>=1.6.3 in c:\\users\\b.ostreshko\\anaconda3\\lib\\site-packages (from tensorboard<2.12,>=2.11->tensorflow-intel==2.11.0->tensorflow) (1.33.0)\n",
      "Collecting tensorboard-plugin-wit>=1.6.0\n",
      "  Downloading tensorboard_plugin_wit-1.8.1-py3-none-any.whl (781 kB)\n",
      "Requirement already satisfied: werkzeug>=1.0.1 in c:\\users\\b.ostreshko\\anaconda3\\lib\\site-packages (from tensorboard<2.12,>=2.11->tensorflow-intel==2.11.0->tensorflow) (2.0.3)\n",
      "Requirement already satisfied: cachetools<5.0,>=2.0.0 in c:\\users\\b.ostreshko\\anaconda3\\lib\\site-packages (from google-auth<3,>=1.6.3->tensorboard<2.12,>=2.11->tensorflow-intel==2.11.0->tensorflow) (4.2.2)\n",
      "Requirement already satisfied: rsa<5,>=3.1.4 in c:\\users\\b.ostreshko\\anaconda3\\lib\\site-packages (from google-auth<3,>=1.6.3->tensorboard<2.12,>=2.11->tensorflow-intel==2.11.0->tensorflow) (4.7.2)\n",
      "Requirement already satisfied: pyasn1-modules>=0.2.1 in c:\\users\\b.ostreshko\\anaconda3\\lib\\site-packages (from google-auth<3,>=1.6.3->tensorboard<2.12,>=2.11->tensorflow-intel==2.11.0->tensorflow) (0.2.8)\n",
      "Collecting requests-oauthlib>=0.7.0\n",
      "  Downloading requests_oauthlib-1.3.1-py2.py3-none-any.whl (23 kB)\n",
      "Requirement already satisfied: pyasn1<0.5.0,>=0.4.6 in c:\\users\\b.ostreshko\\anaconda3\\lib\\site-packages (from pyasn1-modules>=0.2.1->google-auth<3,>=1.6.3->tensorboard<2.12,>=2.11->tensorflow-intel==2.11.0->tensorflow) (0.4.8)\n",
      "Requirement already satisfied: idna<4,>=2.5 in c:\\users\\b.ostreshko\\anaconda3\\lib\\site-packages (from requests<3,>=2.21.0->tensorboard<2.12,>=2.11->tensorflow-intel==2.11.0->tensorflow) (3.3)\n",
      "Requirement already satisfied: urllib3<1.27,>=1.21.1 in c:\\users\\b.ostreshko\\anaconda3\\lib\\site-packages (from requests<3,>=2.21.0->tensorboard<2.12,>=2.11->tensorflow-intel==2.11.0->tensorflow) (1.26.9)\n",
      "Requirement already satisfied: charset-normalizer~=2.0.0 in c:\\users\\b.ostreshko\\anaconda3\\lib\\site-packages (from requests<3,>=2.21.0->tensorboard<2.12,>=2.11->tensorflow-intel==2.11.0->tensorflow) (2.0.4)\n",
      "Requirement already satisfied: certifi>=2017.4.17 in c:\\users\\b.ostreshko\\anaconda3\\lib\\site-packages (from requests<3,>=2.21.0->tensorboard<2.12,>=2.11->tensorflow-intel==2.11.0->tensorflow) (2021.10.8)\n",
      "Collecting oauthlib>=3.0.0\n",
      "  Downloading oauthlib-3.2.2-py3-none-any.whl (151 kB)\n",
      "Requirement already satisfied: pyparsing!=3.0.5,>=2.0.2 in c:\\users\\b.ostreshko\\anaconda3\\lib\\site-packages (from packaging->tensorflow-intel==2.11.0->tensorflow) (3.0.4)\n",
      "Installing collected packages: oauthlib, requests-oauthlib, tensorboard-plugin-wit, tensorboard-data-server, google-auth-oauthlib, absl-py, termcolor, tensorflow-io-gcs-filesystem, tensorflow-estimator, tensorboard, opt-einsum, libclang, keras, google-pasta, gast, flatbuffers, astunparse, tensorflow-intel, tensorflow\n",
      "Successfully installed absl-py-1.4.0 astunparse-1.6.3 flatbuffers-23.3.3 gast-0.4.0 google-auth-oauthlib-0.4.6 google-pasta-0.2.0 keras-2.11.0 libclang-15.0.6.1 oauthlib-3.2.2 opt-einsum-3.3.0 requests-oauthlib-1.3.1 tensorboard-2.11.2 tensorboard-data-server-0.6.1 tensorboard-plugin-wit-1.8.1 tensorflow-2.11.0 tensorflow-estimator-2.11.0 tensorflow-intel-2.11.0 tensorflow-io-gcs-filesystem-0.31.0 termcolor-2.2.0\n",
      "Note: you may need to restart the kernel to use updated packages.\n"
     ]
    }
   ],
   "source": [
    "# pip install tensorflow"
   ]
  },
  {
   "cell_type": "code",
   "execution_count": 3,
   "id": "97dbf0fc",
   "metadata": {},
   "outputs": [],
   "source": [
    "# Получение котировок акций Apple\n",
    "# data = ek.get_timeseries('AAPL.0', fields='*', \n",
    "#                          start_date='2018-10-18 16:00:00', \n",
    "#                          end_date='2018-10-18 17:00:00', \n",
    "#                          interval='tick')\n",
    "\n",
    "# data.info()"
   ]
  },
  {
   "cell_type": "markdown",
   "id": "210ba8e1",
   "metadata": {},
   "source": [
    "# #1.0 Загрузка и анализ исходных даных\n",
    "### #1.1 Загрузка данных и разбиение на train/test"
   ]
  },
  {
   "cell_type": "code",
   "execution_count": 4,
   "id": "1c41b5ff-5cb9-4d02-8e40-3dc12b37e40f",
   "metadata": {},
   "outputs": [],
   "source": [
    "# Часовой график\n",
    "# apple_df_tmp = yf.download(\"AAPL\", start=\"2022-01-03\", interval='1h') #.to_csv('data/test.csv')\n",
    "# apple_df_tmp.head()"
   ]
  },
  {
   "cell_type": "code",
   "execution_count": 2,
   "id": "83660314",
   "metadata": {},
   "outputs": [
    {
     "data": {
      "text/html": [
       "<div>\n",
       "<style scoped>\n",
       "    .dataframe tbody tr th:only-of-type {\n",
       "        vertical-align: middle;\n",
       "    }\n",
       "\n",
       "    .dataframe tbody tr th {\n",
       "        vertical-align: top;\n",
       "    }\n",
       "\n",
       "    .dataframe thead th {\n",
       "        text-align: right;\n",
       "    }\n",
       "</style>\n",
       "<table border=\"1\" class=\"dataframe\">\n",
       "  <thead>\n",
       "    <tr style=\"text-align: right;\">\n",
       "      <th></th>\n",
       "      <th>Open</th>\n",
       "      <th>High</th>\n",
       "      <th>Low</th>\n",
       "      <th>Close</th>\n",
       "      <th>Adj Close</th>\n",
       "      <th>Volume</th>\n",
       "    </tr>\n",
       "    <tr>\n",
       "      <th>Date</th>\n",
       "      <th></th>\n",
       "      <th></th>\n",
       "      <th></th>\n",
       "      <th></th>\n",
       "      <th></th>\n",
       "      <th></th>\n",
       "    </tr>\n",
       "  </thead>\n",
       "  <tbody>\n",
       "    <tr>\n",
       "      <th>2006-01-03</th>\n",
       "      <td>2.585000</td>\n",
       "      <td>2.669643</td>\n",
       "      <td>2.580357</td>\n",
       "      <td>2.669643</td>\n",
       "      <td>2.275651</td>\n",
       "      <td>807234400</td>\n",
       "    </tr>\n",
       "    <tr>\n",
       "      <th>2006-01-04</th>\n",
       "      <td>2.683214</td>\n",
       "      <td>2.713571</td>\n",
       "      <td>2.660714</td>\n",
       "      <td>2.677500</td>\n",
       "      <td>2.282349</td>\n",
       "      <td>619603600</td>\n",
       "    </tr>\n",
       "    <tr>\n",
       "      <th>2006-01-05</th>\n",
       "      <td>2.672500</td>\n",
       "      <td>2.675000</td>\n",
       "      <td>2.633929</td>\n",
       "      <td>2.656429</td>\n",
       "      <td>2.264388</td>\n",
       "      <td>449422400</td>\n",
       "    </tr>\n",
       "    <tr>\n",
       "      <th>2006-01-06</th>\n",
       "      <td>2.687500</td>\n",
       "      <td>2.739286</td>\n",
       "      <td>2.662500</td>\n",
       "      <td>2.725000</td>\n",
       "      <td>2.322838</td>\n",
       "      <td>704457600</td>\n",
       "    </tr>\n",
       "    <tr>\n",
       "      <th>2006-01-09</th>\n",
       "      <td>2.740357</td>\n",
       "      <td>2.757143</td>\n",
       "      <td>2.705000</td>\n",
       "      <td>2.716071</td>\n",
       "      <td>2.315227</td>\n",
       "      <td>675040800</td>\n",
       "    </tr>\n",
       "  </tbody>\n",
       "</table>\n",
       "</div>"
      ],
      "text/plain": [
       "                Open      High       Low     Close  Adj Close     Volume\n",
       "Date                                                                    \n",
       "2006-01-03  2.585000  2.669643  2.580357  2.669643   2.275651  807234400\n",
       "2006-01-04  2.683214  2.713571  2.660714  2.677500   2.282349  619603600\n",
       "2006-01-05  2.672500  2.675000  2.633929  2.656429   2.264388  449422400\n",
       "2006-01-06  2.687500  2.739286  2.662500  2.725000   2.322838  704457600\n",
       "2006-01-09  2.740357  2.757143  2.705000  2.716071   2.315227  675040800"
      ]
     },
     "execution_count": 2,
     "metadata": {},
     "output_type": "execute_result"
    }
   ],
   "source": [
    "apple_df = pd.read_csv('data/AAPL_20060101-20230131.csv', parse_dates=[\"Date\"], index_col=[\"Date\"])\n",
    "\n",
    "# apple_df = yf.download(\"AAPL\", start=\"2006-01-03\", end=\"2023-01-30\")\n",
    "# apple_df = yf.download(\"AAPL\", start=\"2006-01-03\", interval='1d') #.to_csv('data/test.csv')\n",
    "\n",
    "apple_df.head()\n",
    "\n",
    "# apple_df = pd.read_csv('data/test.csv') #, parse_dates=[\"Date\"], index_col=[\"Date\"])"
   ]
  },
  {
   "attachments": {},
   "cell_type": "markdown",
   "id": "61f382b9-a5e3-4898-9728-aa9b242cc69d",
   "metadata": {},
   "source": [
    "#### Логарифмирование ряда - ???"
   ]
  },
  {
   "cell_type": "code",
   "execution_count": 10,
   "id": "80930d6e-d656-4ba7-baba-c9c9d276624a",
   "metadata": {
    "tags": []
   },
   "outputs": [],
   "source": [
    "# apple_df['Close'] = np.log(apple_df['Close'])"
   ]
  },
  {
   "cell_type": "markdown",
   "id": "61bdb1ab-7f13-4faf-815e-972d1505c949",
   "metadata": {},
   "source": [
    "#### Разбиение на train/test"
   ]
  },
  {
   "cell_type": "code",
   "execution_count": 3,
   "id": "52dd366c",
   "metadata": {},
   "outputs": [
    {
     "data": {
      "text/plain": [
       "((4172, 6), (126, 6))"
      ]
     },
     "execution_count": 3,
     "metadata": {},
     "output_type": "execute_result"
    }
   ],
   "source": [
    "# Разбиение на тренировочную и тестовую выборки\n",
    "train_df = apple_df.loc[:'2022-07-29'] #apple_df.iloc[:-3]\n",
    "test_df = apple_df.loc['2022-08-01':] #apple_df.iloc[-3:]\n",
    "\n",
    "train_df.shape, test_df.shape"
   ]
  },
  {
   "attachments": {},
   "cell_type": "markdown",
   "id": "d639d615",
   "metadata": {},
   "source": [
    "##### Разбиение данных (k-fold) - ????\n",
    "Разбиение может проводится, например, следующим образом: \n",
    "30 дней обучение, 5 дней - прогноз "
   ]
  },
  {
   "cell_type": "code",
   "execution_count": 19,
   "id": "0cd2503f",
   "metadata": {},
   "outputs": [],
   "source": []
  },
  {
   "attachments": {},
   "cell_type": "markdown",
   "id": "f4b54fd9",
   "metadata": {},
   "source": [
    "# #2.0 Составление модели прогнозирования на основе ИНС\n",
    "### #2.1 Стандартизация данных"
   ]
  },
  {
   "cell_type": "code",
   "execution_count": 4,
   "id": "6e0eb4f2-b0d6-4930-b0ea-acdb9e961d9d",
   "metadata": {},
   "outputs": [
    {
     "name": "stdout",
     "output_type": "stream",
     "text": [
      "37.45372937248327\n",
      "42.96689539438329\n"
     ]
    }
   ],
   "source": [
    "train_close_mean = train_df['Close'].mean()\n",
    "train_close_std = train_df['Close'].std()\n",
    "\n",
    "print(train_close_mean)\n",
    "print(train_close_std)"
   ]
  },
  {
   "cell_type": "code",
   "execution_count": 5,
   "id": "a9661b98-fa27-411f-a9a5-5d84dc4a2d1b",
   "metadata": {},
   "outputs": [
    {
     "name": "stderr",
     "output_type": "stream",
     "text": [
      "C:\\Users\\b.ostreshko\\AppData\\Local\\Temp\\ipykernel_19264\\3930516961.py:1: SettingWithCopyWarning: \n",
      "A value is trying to be set on a copy of a slice from a DataFrame.\n",
      "Try using .loc[row_indexer,col_indexer] = value instead\n",
      "\n",
      "See the caveats in the documentation: https://pandas.pydata.org/pandas-docs/stable/user_guide/indexing.html#returning-a-view-versus-a-copy\n",
      "  train_df['Close_stand'] = (train_df['Close'] - train_close_mean) / train_close_std\n"
     ]
    },
    {
     "data": {
      "text/html": [
       "<div>\n",
       "<style scoped>\n",
       "    .dataframe tbody tr th:only-of-type {\n",
       "        vertical-align: middle;\n",
       "    }\n",
       "\n",
       "    .dataframe tbody tr th {\n",
       "        vertical-align: top;\n",
       "    }\n",
       "\n",
       "    .dataframe thead th {\n",
       "        text-align: right;\n",
       "    }\n",
       "</style>\n",
       "<table border=\"1\" class=\"dataframe\">\n",
       "  <thead>\n",
       "    <tr style=\"text-align: right;\">\n",
       "      <th></th>\n",
       "      <th>Open</th>\n",
       "      <th>High</th>\n",
       "      <th>Low</th>\n",
       "      <th>Close</th>\n",
       "      <th>Adj Close</th>\n",
       "      <th>Volume</th>\n",
       "      <th>Close_stand</th>\n",
       "    </tr>\n",
       "    <tr>\n",
       "      <th>Date</th>\n",
       "      <th></th>\n",
       "      <th></th>\n",
       "      <th></th>\n",
       "      <th></th>\n",
       "      <th></th>\n",
       "      <th></th>\n",
       "      <th></th>\n",
       "    </tr>\n",
       "  </thead>\n",
       "  <tbody>\n",
       "    <tr>\n",
       "      <th>2006-01-03</th>\n",
       "      <td>2.585000</td>\n",
       "      <td>2.669643</td>\n",
       "      <td>2.580357</td>\n",
       "      <td>2.669643</td>\n",
       "      <td>2.275651</td>\n",
       "      <td>807234400</td>\n",
       "      <td>-0.809555</td>\n",
       "    </tr>\n",
       "    <tr>\n",
       "      <th>2006-01-04</th>\n",
       "      <td>2.683214</td>\n",
       "      <td>2.713571</td>\n",
       "      <td>2.660714</td>\n",
       "      <td>2.677500</td>\n",
       "      <td>2.282349</td>\n",
       "      <td>619603600</td>\n",
       "      <td>-0.809373</td>\n",
       "    </tr>\n",
       "    <tr>\n",
       "      <th>2006-01-05</th>\n",
       "      <td>2.672500</td>\n",
       "      <td>2.675000</td>\n",
       "      <td>2.633929</td>\n",
       "      <td>2.656429</td>\n",
       "      <td>2.264388</td>\n",
       "      <td>449422400</td>\n",
       "      <td>-0.809863</td>\n",
       "    </tr>\n",
       "    <tr>\n",
       "      <th>2006-01-06</th>\n",
       "      <td>2.687500</td>\n",
       "      <td>2.739286</td>\n",
       "      <td>2.662500</td>\n",
       "      <td>2.725000</td>\n",
       "      <td>2.322838</td>\n",
       "      <td>704457600</td>\n",
       "      <td>-0.808267</td>\n",
       "    </tr>\n",
       "    <tr>\n",
       "      <th>2006-01-09</th>\n",
       "      <td>2.740357</td>\n",
       "      <td>2.757143</td>\n",
       "      <td>2.705000</td>\n",
       "      <td>2.716071</td>\n",
       "      <td>2.315227</td>\n",
       "      <td>675040800</td>\n",
       "      <td>-0.808475</td>\n",
       "    </tr>\n",
       "  </tbody>\n",
       "</table>\n",
       "</div>"
      ],
      "text/plain": [
       "                Open      High       Low     Close  Adj Close     Volume  \\\n",
       "Date                                                                       \n",
       "2006-01-03  2.585000  2.669643  2.580357  2.669643   2.275651  807234400   \n",
       "2006-01-04  2.683214  2.713571  2.660714  2.677500   2.282349  619603600   \n",
       "2006-01-05  2.672500  2.675000  2.633929  2.656429   2.264388  449422400   \n",
       "2006-01-06  2.687500  2.739286  2.662500  2.725000   2.322838  704457600   \n",
       "2006-01-09  2.740357  2.757143  2.705000  2.716071   2.315227  675040800   \n",
       "\n",
       "            Close_stand  \n",
       "Date                     \n",
       "2006-01-03    -0.809555  \n",
       "2006-01-04    -0.809373  \n",
       "2006-01-05    -0.809863  \n",
       "2006-01-06    -0.808267  \n",
       "2006-01-09    -0.808475  "
      ]
     },
     "execution_count": 5,
     "metadata": {},
     "output_type": "execute_result"
    }
   ],
   "source": [
    "train_df['Close_stand'] = (train_df['Close'] - train_close_mean) / train_close_std\n",
    "\n",
    "train_df.head()"
   ]
  },
  {
   "cell_type": "code",
   "execution_count": 6,
   "id": "538b4d29-4cc8-4852-87d6-e958c9cbac75",
   "metadata": {},
   "outputs": [
    {
     "data": {
      "text/plain": [
       "<AxesSubplot:>"
      ]
     },
     "execution_count": 6,
     "metadata": {},
     "output_type": "execute_result"
    },
    {
     "data": {
      "image/png": "[encoded data removed]",
      "text/plain": [
       "<Figure size 432x288 with 1 Axes>"
      ]
     },
     "metadata": {
      "needs_background": "light"
     },
     "output_type": "display_data"
    }
   ],
   "source": [
    "train_df['Close_stand'].hist()"
   ]
  },
  {
   "cell_type": "code",
   "execution_count": 18,
   "id": "e82079d9-91c6-46dd-8a59-2cd7276d5aed",
   "metadata": {},
   "outputs": [
    {
     "data": {
      "text/plain": [
       "<AxesSubplot:>"
      ]
     },
     "execution_count": 18,
     "metadata": {},
     "output_type": "execute_result"
    },
    {
     "data": {
      "image/png": "[encoded data removed]",
      "text/plain": [
       "<Figure size 432x288 with 1 Axes>"
      ]
     },
     "metadata": {
      "needs_background": "light"
     },
     "output_type": "display_data"
    }
   ],
   "source": [
    "pd.Series(tf.keras.utils.normalize(np.array(train_df['Close']))[0]).hist()"
   ]
  },
  {
   "cell_type": "code",
   "execution_count": 16,
   "id": "3ecb5c28",
   "metadata": {},
   "outputs": [
    {
     "data": {
      "text/plain": [
       "4172"
      ]
     },
     "execution_count": 16,
     "metadata": {},
     "output_type": "execute_result"
    }
   ],
   "source": [
    "len(tf.keras.utils.normalize(np.array(train_df['Close']))[0])"
   ]
  },
  {
   "cell_type": "code",
   "execution_count": null,
   "id": "b71d5600",
   "metadata": {},
   "outputs": [],
   "source": []
  }
 ],
 "metadata": {
  "kernelspec": {
   "display_name": "Python 3 (ipykernel)",
   "language": "python",
   "name": "python3"
  },
  "language_info": {
   "codemirror_mode": {
    "name": "ipython",
    "version": 3
   },
   "file_extension": ".py",
   "mimetype": "text/x-python",
   "name": "python",
   "nbconvert_exporter": "python",
   "pygments_lexer": "ipython3",
   "version": "3.9.12"
  },
  "vscode": {
   "interpreter": {
    "hash": "000ecf9996653c3939ec2483e7d159e5911927732e0edbfb592f5bb7052f46e6"
   }
  }
 },
 "nbformat": 4,
 "nbformat_minor": 5
}
